{
 "cells": [
  {
   "cell_type": "code",
   "execution_count": 150,
   "metadata": {
    "collapsed": false
   },
   "outputs": [
    {
     "data": {
      "image/png": "[encoded data removed]",
      "text/plain": [
       "Graphics object consisting of 11 graphics primitives"
      ]
     },
     "execution_count": 150,
     "metadata": {
     },
     "output_type": "execute_result"
    }
   ],
   "source": [
    "barve = {'red': 1, 'green': 2, 'blue': 3}\n",
    "for G in graphs.nauty_geng('4 -c -d3 -D3'):\n",
    "    for u, v in G.edges(labels=False):\n",
    "        c = randint(1, 3)\n",
    "        G.set_edge_label(u, v, c)\n",
    "\n",
    "G.plot(edge_colors={k: [(u, v) for u, v, c in G.edges() if c == b] for k, b in barve.items()})"
   ]
  },
  {
   "cell_type": "code",
   "execution_count": 146,
   "metadata": {
    "collapsed": false
   },
   "outputs": [
   ],
   "source": [
    "import random\n",
    "def update_barve(graf):\n",
    "    barva1 = []\n",
    "    barva2 = []\n",
    "    barva3 = []\n",
    "\n",
    "    for povezava in graf:\n",
    "        (u, v, c) = povezava\n",
    "        if c == 1:\n",
    "            barva1.append(povezava)\n",
    "        elif c == 2:\n",
    "            barva2.append(povezava)\n",
    "        else:\n",
    "            barva3.append(povezava)\n",
    "\n",
    "    barva = [barva1, barva2, barva3]\n",
    "    barva.sort(key=len)\n",
    "    return barva\n",
    "def popravljanje (graf):\n",
    "    \n",
    "      \n",
    "    barva = update_barve(graf)\n",
    "    print barva\n",
    "    print \"1\", graf\n",
    "\n",
    "    for i, seznam in enumerate(barva):\n",
    "        if len(seznam) < 2:\n",
    "            if len(barva[0]) == 1:\n",
    "                u = seznam[0][0]\n",
    "                v = seznam[0][1]\n",
    "                c = seznam[0][2]\n",
    "                print (u, v, c)\n",
    "                for i, ostale in enumerate(graf):\n",
    "                    if ostale in barva[2]:\n",
    "                        (u1, v1, c1) = ostale\n",
    "                        print ostale\n",
    "                        if u == v1 or u == u1:\n",
    "                            print(i, u1, v1, c1)\n",
    "                            graf[i] = (u1, v1, c)\n",
    "                            break\n",
    "                        elif v == u1 or v == v1:\n",
    "                            graf[i] = (u1, v1, c)\n",
    "                            break\n",
    "            else:\n",
    "                c = [1, 2, 3]\n",
    "                for i in graf:\n",
    "                    (u, v, c1) = i\n",
    "                    if c1 in c:\n",
    "                        c.remove(c1)\n",
    "                index = randint(0, len(graf)-1)\n",
    "                (u1, v1, c1) = graf[index]\n",
    "                for i, test in enumerate(graf):\n",
    "                    if(i==index):\n",
    "                        graf[i] = (u1, v1, c[0])\n",
    "            barva = update_barve(graf)\n",
    "            print \"spremenjen\", graf\n",
    "    \n",
    "    for povezava in graf:\n",
    "        (u, v, c) = povezava\n",
    "        print('povezava {}'.format((u, v, c)))\n",
    "        counter_u = 0\n",
    "        counter_v = 0\n",
    "        for ostale in graf:\n",
    "            (u1, v1, c1) = ostale\n",
    "            if (u1, v1, c1) == (u, v, c):\n",
    "                counter_u += 1\n",
    "                counter_v += 1\n",
    "            elif (u == u1 or u == v1) and (v != u1 or v != v1):\n",
    "                if c1 == c:\n",
    "                    counter_u += 1\n",
    "            elif (v == u1 or v == v1) and (u != u1 or u != v1):\n",
    "                if c1 == c:\n",
    "                    counter_v += 1\n",
    "            print(counter_u, counter_v)\n",
    "        if (counter_u, counter_v) == (1, 1):\n",
    "            print(graf)\n",
    "            for i, ostale in enumerate(graf):\n",
    "                print(i, ostale)\n",
    "                (u1, v1, c1) = ostale\n",
    "                if (u == u1 or u == v1) and (povezava != ostale):\n",
    "                    graf[i] = (u1, v1, c)\n",
    "                    print graf\n",
    "                    popravljanje(graf)\n",
    "                else: pass\n",
    "        elif counter_u == counter_v:              #pogoj za (2,2) in (3,3)\n",
    "            print(graf)\n",
    "            for i, ostale in enumerate(graf):\n",
    "                print(i, ostale)\n",
    "                (u1, v1, c1) = ostale\n",
    "                if (u == u1 or u == v1) and (povezava != ostale) and (c == c1):\n",
    "                    barva = [1, 2, 3]\n",
    "                    barva.remove(c)\n",
    "                    barva = random.choice(barva)\n",
    "                    graf[i] = (u1, v1, barva)\n",
    "                    print graf\n",
    "                    popravljanje(graf)\n",
    "                else: pass\n",
    "        else: pass\n",
    "    return graf"
   ]
  },
  {
   "cell_type": "code",
   "execution_count": 0,
   "metadata": {
    "collapsed": false
   },
   "outputs": [
   ],
   "source": [
   ]
  },
  {
   "cell_type": "code",
   "execution_count": 147,
   "metadata": {
    "collapsed": false,
    "scrolled": true
   },
   "outputs": [
    {
     "name": "stdout",
     "output_type": "stream",
     "text": [
      "[(0, 1, 1), (0, 2, 2), (0, 3, 2), (1, 2, 2), (1, 3, 2), (2, 3, 2)]\n",
      "[[], [(0, 1, 1)], [(0, 2, 2), (0, 3, 2), (1, 2, 2), (1, 3, 2), (2, 3, 2)]]\n",
      "1 [(0, 1, 1), (0, 2, 2), (0, 3, 2), (1, 2, 2), (1, 3, 2), (2, 3, 2)]\n",
      "spremenjen [(0, 1, 1), (0, 2, 3), (0, 3, 2), (1, 2, 2), (1, 3, 2), (2, 3, 2)]\n",
      "(0, 1, 1)\n",
      "(0, 3, 2)\n",
      "(2, 0, 3, 2)\n",
      "spremenjen [(0, 1, 1), (0, 2, 3), (0, 3, 1), (1, 2, 2), (1, 3, 2), (2, 3, 2)]\n",
      "povezava (0, 1, 1)\n",
      "(1, 1)\n",
      "(1, 1)\n",
      "(2, 1)\n",
      "(2, 1)\n",
      "(2, 1)\n",
      "(2, 1)\n",
      "povezava (0, 2, 3)\n",
      "(0, 0)\n",
      "(1, 1)\n",
      "(1, 1)\n",
      "(1, 1)\n",
      "(1, 1)\n",
      "(1, 1)\n",
      "[(0, 1, 1), (0, 2, 3), (0, 3, 1), (1, 2, 2), (1, 3, 2), (2, 3, 2)]\n",
      "(0, (0, 1, 1))\n",
      "[(0, 1, 3), (0, 2, 3), (0, 3, 1), (1, 2, 2), (1, 3, 2), (2, 3, 2)]\n",
      "[[(0, 3, 1)], [(0, 1, 3), (0, 2, 3)], [(1, 2, 2), (1, 3, 2), (2, 3, 2)]]\n",
      "1 [(0, 1, 3), (0, 2, 3), (0, 3, 1), (1, 2, 2), (1, 3, 2), (2, 3, 2)]\n",
      "(0, 3, 1)\n",
      "(1, 2, 2)\n",
      "(1, 3, 2)\n",
      "spremenjen [(0, 1, 3), (0, 2, 3), (0, 3, 1), (1, 2, 2), (1, 3, 1), (2, 3, 2)]\n",
      "povezava (0, 1, 3)\n",
      "(1, 1)\n",
      "(2, 1)\n",
      "(2, 1)\n",
      "(2, 1)\n",
      "(2, 1)\n",
      "(2, 1)\n",
      "povezava (0, 2, 3)\n",
      "(1, 0)\n",
      "(2, 1)\n",
      "(2, 1)\n",
      "(2, 1)\n",
      "(2, 1)\n",
      "(2, 1)\n",
      "povezava (0, 3, 1)\n",
      "(0, 0)\n",
      "(0, 0)\n",
      "(1, 1)\n",
      "(1, 1)\n",
      "(1, 2)\n",
      "(1, 2)\n",
      "povezava (1, 2, 2)\n",
      "(0, 0)\n",
      "(0, 0)\n",
      "(0, 0)\n",
      "(1, 1)\n",
      "(1, 1)\n",
      "(1, 2)\n",
      "povezava (1, 3, 1)\n",
      "(0, 0)\n",
      "(0, 0)\n",
      "(0, 1)\n",
      "(0, 1)\n",
      "(1, 2)\n",
      "(1, 2)\n",
      "povezava (2, 3, 2)\n",
      "(0, 0)\n",
      "(0, 0)\n",
      "(0, 0)\n",
      "(1, 0)\n",
      "(1, 0)\n",
      "(2, 1)\n",
      "(1, (0, 2, 3))\n",
      "(2, (0, 3, 1))\n",
      "[(0, 1, 3), (0, 2, 3), (0, 3, 3), (1, 2, 2), (1, 3, 1), (2, 3, 2)]\n",
      "[[(1, 3, 1)], [(1, 2, 2), (2, 3, 2)], [(0, 1, 3), (0, 2, 3), (0, 3, 3)]]\n",
      "1 [(0, 1, 3), (0, 2, 3), (0, 3, 3), (1, 2, 2), (1, 3, 1), (2, 3, 2)]\n",
      "(1, 3, 1)\n",
      "(0, 1, 3)\n",
      "(0, 0, 1, 3)\n",
      "spremenjen [(0, 1, 1), (0, 2, 3), (0, 3, 3), (1, 2, 2), (1, 3, 1), (2, 3, 2)]\n",
      "povezava (0, 1, 1)\n",
      "(1, 1)\n",
      "(1, 1)\n",
      "(1, 1)\n",
      "(1, 1)\n",
      "(1, 2)\n",
      "(1, 2)\n",
      "povezava (0, 2, 3)\n",
      "(0, 0)\n",
      "(1, 1)\n",
      "(2, 1)\n",
      "(2, 1)\n",
      "(2, 1)\n",
      "(2, 1)\n",
      "povezava (0, 3, 3)\n",
      "(0, 0)\n",
      "(1, 0)\n",
      "(2, 1)\n",
      "(2, 1)\n",
      "(2, 1)\n",
      "(2, 1)\n",
      "povezava (1, 2, 2)\n",
      "(0, 0)\n",
      "(0, 0)\n",
      "(0, 0)\n",
      "(1, 1)\n",
      "(1, 1)\n",
      "(1, 2)\n",
      "povezava (1, 3, 1)\n",
      "(1, 0)\n",
      "(1, 0)\n",
      "(1, 0)\n",
      "(1, 0)\n",
      "(2, 1)\n",
      "(2, 1)\n",
      "povezava (2, 3, 2)\n",
      "(0, 0)\n",
      "(0, 0)\n",
      "(0, 0)\n",
      "(1, 0)\n",
      "(1, 0)\n",
      "(2, 1)\n",
      "(3, (1, 2, 2))\n",
      "(4, (1, 3, 1))\n",
      "(5, (2, 3, 2))\n",
      "povezava (0, 3, 3)\n",
      "(0, 0)\n",
      "(1, 0)\n",
      "(2, 1)\n",
      "(2, 1)\n",
      "(2, 1)\n",
      "(2, 1)\n",
      "povezava (1, 2, 2)\n",
      "(0, 0)\n",
      "(0, 0)\n",
      "(0, 0)\n",
      "(1, 1)\n",
      "(1, 1)\n",
      "(1, 2)\n",
      "povezava (1, 3, 1)\n",
      "(1, 0)\n",
      "(1, 0)\n",
      "(1, 0)\n",
      "(1, 0)\n",
      "(2, 1)\n",
      "(2, 1)\n",
      "povezava (2, 3, 2)\n",
      "(0, 0)\n",
      "(0, 0)\n",
      "(0, 0)\n",
      "(1, 0)\n",
      "(1, 0)\n",
      "(2, 1)\n"
     ]
    },
    {
     "data": {
      "text/plain": [
       "[(0, 1, 1), (0, 2, 3), (0, 3, 3), (1, 2, 2), (1, 3, 1), (2, 3, 2)]"
      ]
     },
     "execution_count": 147,
     "metadata": {
     },
     "output_type": "execute_result"
    }
   ],
   "source": [
    "popravljen = G.edges()\n",
    "print(popravljen)\n",
    "popravljanje(popravljen)"
   ]
  },
  {
   "cell_type": "code",
   "execution_count": 149,
   "metadata": {
    "collapsed": false
   },
   "outputs": [
    {
     "data": {
      "image/png": "[encoded data removed]",
      "text/plain": [
       "Graphics object consisting of 11 graphics primitives"
      ]
     },
     "execution_count": 149,
     "metadata": {
     },
     "output_type": "execute_result"
    }
   ],
   "source": [
    "G.plot(edge_colors={k: [(u, v) for u, v, c in popravljen if c == b] for k, b in barve.items()})"
   ]
  },
  {
   "cell_type": "code",
   "execution_count": 0,
   "metadata": {
    "collapsed": false
   },
   "outputs": [
   ],
   "source": [
   ]
  }
 ],
 "metadata": {
  "kernelspec": {
   "display_name": "SageMath (stable)",
   "language": "sagemath",
   "metadata": {
    "cocalc": {
     "description": "Open-source mathematical software system",
     "priority": 10,
     "url": "https://www.sagemath.org/"
    }
   },
   "name": "sagemath"
  },
  "language_info": {
   "codemirror_mode": {
    "name": "ipython",
    "version": 2
   },
   "file_extension": ".py",
   "mimetype": "text/x-python",
   "name": "python",
   "nbconvert_exporter": "python",
   "pygments_lexer": "ipython2",
   "version": "2.7.15"
  }
 },
 "nbformat": 4,
 "nbformat_minor": 0
}