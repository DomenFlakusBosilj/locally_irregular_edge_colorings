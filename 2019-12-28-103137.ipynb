{
 "cells": [
  {
   "cell_type": "code",
   "execution_count": 6,
   "metadata": {
    "collapsed": false
   },
   "outputs": [
    {
     "data": {
      "image/png": "[encoded data removed]",
      "text/plain": [
       "Graphics object consisting of 11 graphics primitives"
      ]
     },
     "execution_count": 6,
     "metadata": {
     },
     "output_type": "execute_result"
    }
   ],
   "source": [
    "barve = {'red': 1, 'green': 2, 'blue': 3}\n",
    "for G in graphs.nauty_geng('4 -c -d3 -D3'):\n",
    "    for u, v in G.edges(labels=False):\n",
    "        c = randint(1, 3)\n",
    "        G.set_edge_label(u, v, c)\n",
    "        ##print(u, v, c)\n",
    "\n",
    "G.plot(edge_colors={k: [(u, v) for u, v, c in G.edges() if c == b] for k, b in barve.items()})"
   ]
  },
  {
   "cell_type": "code",
   "execution_count": 7,
   "metadata": {
    "collapsed": false
   },
   "outputs": [
   ],
   "source": [
    "import random\n",
    "def popravljanje (graf):\n",
    "    \n",
    "    barva1 = []\n",
    "    barva2 = []\n",
    "    barva3 = []\n",
    "\n",
    "    for povezava in graf:\n",
    "        (u, v, c) = povezava\n",
    "        if c == 1:\n",
    "            barva1.append(povezava)\n",
    "        elif c == 2:\n",
    "            barva2.append(povezava)\n",
    "        else:\n",
    "            barva3.append(povezava)\n",
    "    #    if v > vozlisca:\n",
    "    #        vozlisca = v\n",
    "    #vozlisca += 1\n",
    "\n",
    "    barva = [barva1, barva2, barva3]\n",
    "    barva.sort(key=len)\n",
    "\n",
    "    print barva\n",
    "    print \"1\", graf\n",
    "\n",
    "    for i, seznam in enumerate(barva):\n",
    "        if len(seznam) < 2:\n",
    "            if len(barva[0]) == 1:\n",
    "                u = seznam[0][0]\n",
    "                v = seznam[0][1]\n",
    "                c = seznam[0][2]\n",
    "                print (u, v, c)\n",
    "                for i, ostale in enumerate(graf):\n",
    "                    if ostale in barva[2]:\n",
    "                        (u1, v1, c1) = ostale\n",
    "                        print ostale\n",
    "                        if u == v1 or u == u1:\n",
    "                            print(i, u1, v1, c1)\n",
    "                            graf[i] = (u1, v1, c)\n",
    "                            break\n",
    "                        elif v == u1 or v == v1:\n",
    "                            graf[i] = (u1, v1, c)\n",
    "                            break\n",
    "            else:\n",
    "                c = [1,2,3]\n",
    "                for i in graf:\n",
    "                    if barva in c:\n",
    "                        c.remove(graf[[i][2]])\n",
    "                index = randint(0, len(graf)-1)\n",
    "                graf[index] = (u1, v1, c[0])\n",
    "            print \"2\", graf\n",
    "    \n",
    "    for povezava in graf:\n",
    "        (u, v, c) = povezava\n",
    "        print('povezava {}'.format((u, v, c)))\n",
    "        counter_u = 0\n",
    "        counter_v = 0\n",
    "        for ostale in graf:\n",
    "            (u1, v1, c1) = ostale\n",
    "            if (u1, v1, c1) == (u, v, c):\n",
    "                counter_u += 1\n",
    "                counter_v += 1\n",
    "            elif (u == u1 or u == v1) and (v != u1 or v != v1):\n",
    "                if c1 == c:\n",
    "                    counter_u += 1\n",
    "            elif (v == u1 or v == v1) and (u != u1 or u != v1):\n",
    "                if c1 == c:\n",
    "                    counter_v += 1\n",
    "            print(counter_u, counter_v)\n",
    "        if (counter_u, counter_v) == (1, 1):\n",
    "            print(graf)\n",
    "            for i, ostale in enumerate(graf):\n",
    "                print(i, ostale)\n",
    "                (u1, v1, c1) = ostale\n",
    "                if (u == u1 or u == v1) and (povezava != ostale):\n",
    "                    graf[i] = (u1, v1, c)\n",
    "                    print graf\n",
    "                    popravljanje(graf)\n",
    "                else: pass\n",
    "        elif counter_u == counter_v:              #pogoj za (2,2) in (3,3)\n",
    "            print(graf)\n",
    "            for i, ostale in enumerate(graf):\n",
    "                print(i, ostale)\n",
    "                (u1, v1, c1) = ostale\n",
    "                if (u == u1 or u == v1) and (povezava != ostale) and (c == c1):\n",
    "                    barva = [1, 2, 3]\n",
    "                    barva.remove(c)\n",
    "                    barva = random.choice(barva)\n",
    "                    graf[i] = (u1, v1, barva)\n",
    "                    print graf\n",
    "                    popravljanje(graf)\n",
    "                else: pass\n",
    "        else: pass\n",
    "    return graf"
   ]
  },
  {
   "cell_type": "code",
   "execution_count": 8,
   "metadata": {
    "collapsed": false
   },
   "outputs": [
    {
     "ename": "NameError",
     "evalue": "global name 'graf' is not defined",
     "output_type": "error",
     "traceback": [
      "\u001b[0;31m---------------------------------------------------------------------------\u001b[0m",
      "\u001b[0;31mNameError\u001b[0m                                 Traceback (most recent call last)",
      "\u001b[0;32m<ipython-input-8-83c33e7456ce>\u001b[0m in \u001b[0;36m<module>\u001b[0;34m()\u001b[0m\n\u001b[0;32m----> 1\u001b[0;31m \u001b[0mG\u001b[0m\u001b[0;34m.\u001b[0m\u001b[0mplot\u001b[0m\u001b[0;34m(\u001b[0m\u001b[0medge_colors\u001b[0m\u001b[0;34m=\u001b[0m\u001b[0;34m{\u001b[0m\u001b[0mk\u001b[0m\u001b[0;34m:\u001b[0m \u001b[0;34m[\u001b[0m\u001b[0;34m(\u001b[0m\u001b[0mu\u001b[0m\u001b[0;34m,\u001b[0m \u001b[0mv\u001b[0m\u001b[0;34m)\u001b[0m \u001b[0;32mfor\u001b[0m \u001b[0mu\u001b[0m\u001b[0;34m,\u001b[0m \u001b[0mv\u001b[0m\u001b[0;34m,\u001b[0m \u001b[0mc\u001b[0m \u001b[0;32min\u001b[0m \u001b[0mgraf\u001b[0m \u001b[0;32mif\u001b[0m \u001b[0mc\u001b[0m \u001b[0;34m==\u001b[0m \u001b[0mb\u001b[0m\u001b[0;34m]\u001b[0m \u001b[0;32mfor\u001b[0m \u001b[0mk\u001b[0m\u001b[0;34m,\u001b[0m \u001b[0mb\u001b[0m \u001b[0;32min\u001b[0m \u001b[0mbarve\u001b[0m\u001b[0;34m.\u001b[0m\u001b[0mitems\u001b[0m\u001b[0;34m(\u001b[0m\u001b[0;34m)\u001b[0m\u001b[0;34m}\u001b[0m\u001b[0;34m)\u001b[0m\u001b[0;34m\u001b[0m\u001b[0m\n\u001b[0m",
      "\u001b[0;32m<ipython-input-8-83c33e7456ce>\u001b[0m in \u001b[0;36m<dictcomp>\u001b[0;34m((k, b))\u001b[0m\n\u001b[0;32m----> 1\u001b[0;31m \u001b[0mG\u001b[0m\u001b[0;34m.\u001b[0m\u001b[0mplot\u001b[0m\u001b[0;34m(\u001b[0m\u001b[0medge_colors\u001b[0m\u001b[0;34m=\u001b[0m\u001b[0;34m{\u001b[0m\u001b[0mk\u001b[0m\u001b[0;34m:\u001b[0m \u001b[0;34m[\u001b[0m\u001b[0;34m(\u001b[0m\u001b[0mu\u001b[0m\u001b[0;34m,\u001b[0m \u001b[0mv\u001b[0m\u001b[0;34m)\u001b[0m \u001b[0;32mfor\u001b[0m \u001b[0mu\u001b[0m\u001b[0;34m,\u001b[0m \u001b[0mv\u001b[0m\u001b[0;34m,\u001b[0m \u001b[0mc\u001b[0m \u001b[0;32min\u001b[0m \u001b[0mgraf\u001b[0m \u001b[0;32mif\u001b[0m \u001b[0mc\u001b[0m \u001b[0;34m==\u001b[0m \u001b[0mb\u001b[0m\u001b[0;34m]\u001b[0m \u001b[0;32mfor\u001b[0m \u001b[0mk\u001b[0m\u001b[0;34m,\u001b[0m \u001b[0mb\u001b[0m \u001b[0;32min\u001b[0m \u001b[0mbarve\u001b[0m\u001b[0;34m.\u001b[0m\u001b[0mitems\u001b[0m\u001b[0;34m(\u001b[0m\u001b[0;34m)\u001b[0m\u001b[0;34m}\u001b[0m\u001b[0;34m)\u001b[0m\u001b[0;34m\u001b[0m\u001b[0m\n\u001b[0m",
      "\u001b[0;31mNameError\u001b[0m: global name 'graf' is not defined"
     ]
    }
   ],
   "source": [
    "G.plot(edge_colors={k: [(u, v) for u, v, c in graf if c == b] for k, b in barve.items()})"
   ]
  }
 ],
 "metadata": {
  "kernelspec": {
   "display_name": "SageMath (stable)",
   "language": "sagemath",
   "metadata": {
    "cocalc": {
     "description": "Open-source mathematical software system",
     "priority": 10,
     "url": "https://www.sagemath.org/"
    }
   },
   "name": "sagemath"
  },
  "language_info": {
   "codemirror_mode": {
    "name": "ipython",
    "version": 2
   },
   "file_extension": ".py",
   "mimetype": "text/x-python",
   "name": "python",
   "nbconvert_exporter": "python",
   "pygments_lexer": "ipython2",
   "version": "2.7.15"
  }
 },
 "nbformat": 4,
 "nbformat_minor": 0
}