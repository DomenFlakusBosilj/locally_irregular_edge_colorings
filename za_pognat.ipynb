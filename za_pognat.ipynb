{
 "cells": [
  {
   "cell_type": "code",
   "execution_count": 47,
   "metadata": {
    "collapsed": false,
    "scrolled": true
   },
   "outputs": [
    {
     "name": "stdout",
     "output_type": "stream",
     "text": [
      "4\n",
      "barva0\n"
     ]
    },
    {
     "name": "stdout",
     "output_type": "stream",
     "text": [
      "uspelo pobarvat3\n",
      "6\n",
      "barva0\n"
     ]
    },
    {
     "name": "stdout",
     "output_type": "stream",
     "text": [
      "uspelo pobarvat3\n",
      "barva0\n"
     ]
    },
    {
     "name": "stdout",
     "output_type": "stream",
     "text": [
      "uspelo pobarvat3\n",
      "8\n",
      "barva0\n"
     ]
    },
    {
     "name": "stdout",
     "output_type": "stream",
     "text": [
      "uspelo pobarvat3\n",
      "barva0\n"
     ]
    },
    {
     "name": "stdout",
     "output_type": "stream",
     "text": [
      "uspelo pobarvat3\n",
      "barva0\n"
     ]
    },
    {
     "name": "stdout",
     "output_type": "stream",
     "text": [
      "uspelo pobarvat3\n",
      "barva0\n"
     ]
    },
    {
     "name": "stdout",
     "output_type": "stream",
     "text": [
      "uspelo pobarvat3\n",
      "barva0\n"
     ]
    },
    {
     "name": "stdout",
     "output_type": "stream",
     "text": [
      "uspelo pobarvat3\n",
      "10\n",
      "barva0\n"
     ]
    },
    {
     "name": "stdout",
     "output_type": "stream",
     "text": [
      "uspelo pobarvat3\n",
      "barva0\n"
     ]
    },
    {
     "name": "stdout",
     "output_type": "stream",
     "text": [
      "uspelo pobarvat3\n",
      "barva0\n"
     ]
    },
    {
     "name": "stdout",
     "output_type": "stream",
     "text": [
      "uspelo pobarvat3\n",
      "barva0\n"
     ]
    },
    {
     "name": "stdout",
     "output_type": "stream",
     "text": [
      "uspelo pobarvat3\n",
      "barva0\n"
     ]
    },
    {
     "name": "stdout",
     "output_type": "stream",
     "text": [
      "uspelo pobarvat3\n",
      "barva0\n"
     ]
    },
    {
     "name": "stdout",
     "output_type": "stream",
     "text": [
      "uspelo pobarvat3\n",
      "barva0\n"
     ]
    },
    {
     "ename": "KeyboardInterrupt",
     "evalue": "",
     "output_type": "error",
     "traceback": [
      "\u001b[0;31m---------------------------------------------------------------------------\u001b[0m",
      "\u001b[0;31mKeyboardInterrupt\u001b[0m                         Traceback (most recent call last)",
      "\u001b[0;32m<ipython-input-47-ee258403888a>\u001b[0m in \u001b[0;36m<module>\u001b[0;34m()\u001b[0m\n\u001b[1;32m    157\u001b[0m     \u001b[0;32mprint\u001b[0m\u001b[0;34m(\u001b[0m\u001b[0mi\u001b[0m\u001b[0;34m)\u001b[0m\u001b[0;34m\u001b[0m\u001b[0m\n\u001b[1;32m    158\u001b[0m     \u001b[0;32mfor\u001b[0m \u001b[0mG\u001b[0m \u001b[0;32min\u001b[0m \u001b[0mgraphs\u001b[0m\u001b[0;34m.\u001b[0m\u001b[0mnauty_geng\u001b[0m\u001b[0;34m(\u001b[0m\u001b[0;34m'{} -c -d3 -D3'\u001b[0m\u001b[0;34m.\u001b[0m\u001b[0mformat\u001b[0m\u001b[0;34m(\u001b[0m\u001b[0mi\u001b[0m\u001b[0;34m)\u001b[0m\u001b[0;34m)\u001b[0m\u001b[0;34m:\u001b[0m\u001b[0;34m\u001b[0m\u001b[0m\n\u001b[0;32m--> 159\u001b[0;31m         \u001b[0mgraf\u001b[0m \u001b[0;34m=\u001b[0m \u001b[0mposkusi_pobarvat\u001b[0m\u001b[0;34m(\u001b[0m\u001b[0mG\u001b[0m\u001b[0;34m)\u001b[0m\u001b[0;34m\u001b[0m\u001b[0m\n\u001b[0m\u001b[1;32m    160\u001b[0m         \u001b[0;32mif\u001b[0m \u001b[0mgraf\u001b[0m \u001b[0;34m!=\u001b[0m \u001b[0mNone\u001b[0m\u001b[0;34m:\u001b[0m\u001b[0;34m\u001b[0m\u001b[0m\n\u001b[1;32m    161\u001b[0m             \u001b[0mseznam_nepobarvanih\u001b[0m\u001b[0;34m.\u001b[0m\u001b[0mappend\u001b[0m\u001b[0;34m(\u001b[0m\u001b[0mgraf\u001b[0m\u001b[0;34m)\u001b[0m\u001b[0;34m\u001b[0m\u001b[0m\n",
      "\u001b[0;32m<ipython-input-47-ee258403888a>\u001b[0m in \u001b[0;36mposkusi_pobarvat\u001b[0;34m(G, i)\u001b[0m\n\u001b[1;32m    119\u001b[0m         \u001b[0;32mprint\u001b[0m\u001b[0;34m(\u001b[0m\u001b[0;34m'barva{}'\u001b[0m\u001b[0;34m.\u001b[0m\u001b[0mformat\u001b[0m\u001b[0;34m(\u001b[0m\u001b[0mi\u001b[0m\u001b[0;34m)\u001b[0m\u001b[0;34m)\u001b[0m\u001b[0;34m\u001b[0m\u001b[0m\n\u001b[1;32m    120\u001b[0m         \u001b[0mbarvanje\u001b[0m\u001b[0;34m(\u001b[0m\u001b[0mG\u001b[0m\u001b[0;34m)\u001b[0m\u001b[0;34m\u001b[0m\u001b[0m\n\u001b[0;32m--> 121\u001b[0;31m         \u001b[0mG\u001b[0m \u001b[0;34m=\u001b[0m \u001b[0mGraph\u001b[0m\u001b[0;34m(\u001b[0m\u001b[0mpopravljanje\u001b[0m\u001b[0;34m(\u001b[0m\u001b[0mInteger\u001b[0m\u001b[0;34m(\u001b[0m\u001b[0;36m2000\u001b[0m\u001b[0;34m)\u001b[0m\u001b[0;34m,\u001b[0m \u001b[0mG\u001b[0m\u001b[0;34m)\u001b[0m\u001b[0;34m)\u001b[0m\u001b[0;34m\u001b[0m\u001b[0m\n\u001b[0m\u001b[1;32m    122\u001b[0m         \u001b[0;32mif\u001b[0m \u001b[0miskanje_slabih\u001b[0m\u001b[0;34m(\u001b[0m\u001b[0mG\u001b[0m\u001b[0;34m)\u001b[0m \u001b[0;34m!=\u001b[0m \u001b[0;34m[\u001b[0m\u001b[0;34m]\u001b[0m\u001b[0;34m:\u001b[0m\u001b[0;34m\u001b[0m\u001b[0m\n\u001b[1;32m    123\u001b[0m             \u001b[0;32mprint\u001b[0m \u001b[0;34m'grem lokalno popravljat'\u001b[0m\u001b[0;34m\u001b[0m\u001b[0m\n",
      "\u001b[0;32m<ipython-input-47-ee258403888a>\u001b[0m in \u001b[0;36mpopravljanje\u001b[0;34m(kolikokrat, G)\u001b[0m\n\u001b[1;32m     49\u001b[0m         \u001b[0mg\u001b[0m \u001b[0;34m=\u001b[0m \u001b[0mlen\u001b[0m\u001b[0;34m(\u001b[0m\u001b[0miskanje_slabih\u001b[0m\u001b[0;34m(\u001b[0m\u001b[0mG\u001b[0m\u001b[0;34m)\u001b[0m\u001b[0;34m)\u001b[0m\u001b[0;34m\u001b[0m\u001b[0m\n\u001b[1;32m     50\u001b[0m         \u001b[0ma\u001b[0m \u001b[0;34m=\u001b[0m \u001b[0mlen\u001b[0m\u001b[0;34m(\u001b[0m\u001b[0miskanje_slabih\u001b[0m\u001b[0;34m(\u001b[0m\u001b[0mA\u001b[0m\u001b[0;34m)\u001b[0m\u001b[0;34m)\u001b[0m\u001b[0;34m\u001b[0m\u001b[0m\n\u001b[0;32m---> 51\u001b[0;31m         \u001b[0mb\u001b[0m \u001b[0;34m=\u001b[0m \u001b[0mlen\u001b[0m\u001b[0;34m(\u001b[0m\u001b[0miskanje_slabih\u001b[0m\u001b[0;34m(\u001b[0m\u001b[0mB\u001b[0m\u001b[0;34m)\u001b[0m\u001b[0;34m)\u001b[0m\u001b[0;34m\u001b[0m\u001b[0m\n\u001b[0m\u001b[1;32m     52\u001b[0m         \u001b[0;32mif\u001b[0m \u001b[0ma\u001b[0m \u001b[0;34m<\u001b[0m \u001b[0mb\u001b[0m\u001b[0;34m:\u001b[0m\u001b[0;34m\u001b[0m\u001b[0m\n\u001b[1;32m     53\u001b[0m             \u001b[0;32mif\u001b[0m \u001b[0ma\u001b[0m \u001b[0;34m<\u001b[0m \u001b[0mg\u001b[0m\u001b[0;34m:\u001b[0m\u001b[0;34m\u001b[0m\u001b[0m\n",
      "\u001b[0;32m<ipython-input-47-ee258403888a>\u001b[0m in \u001b[0;36miskanje_slabih\u001b[0;34m(G)\u001b[0m\n\u001b[1;32m     12\u001b[0m     \u001b[0mG1\u001b[0m \u001b[0;34m=\u001b[0m \u001b[0mG\u001b[0m\u001b[0;34m.\u001b[0m\u001b[0msubgraph\u001b[0m\u001b[0;34m(\u001b[0m\u001b[0medges\u001b[0m\u001b[0;34m=\u001b[0m\u001b[0;34m[\u001b[0m\u001b[0;34m(\u001b[0m\u001b[0mu\u001b[0m\u001b[0;34m,\u001b[0m \u001b[0mv\u001b[0m\u001b[0;34m)\u001b[0m \u001b[0;32mfor\u001b[0m \u001b[0mu\u001b[0m\u001b[0;34m,\u001b[0m \u001b[0mv\u001b[0m\u001b[0;34m,\u001b[0m \u001b[0mc\u001b[0m \u001b[0;32min\u001b[0m \u001b[0mG\u001b[0m\u001b[0;34m.\u001b[0m\u001b[0medges\u001b[0m\u001b[0;34m(\u001b[0m\u001b[0;34m)\u001b[0m \u001b[0;32mif\u001b[0m \u001b[0mc\u001b[0m \u001b[0;34m==\u001b[0m \u001b[0mInteger\u001b[0m\u001b[0;34m(\u001b[0m\u001b[0;36m1\u001b[0m\u001b[0;34m)\u001b[0m\u001b[0;34m]\u001b[0m\u001b[0;34m)\u001b[0m\u001b[0;34m\u001b[0m\u001b[0m\n\u001b[1;32m     13\u001b[0m     \u001b[0mG2\u001b[0m \u001b[0;34m=\u001b[0m \u001b[0mG\u001b[0m\u001b[0;34m.\u001b[0m\u001b[0msubgraph\u001b[0m\u001b[0;34m(\u001b[0m\u001b[0medges\u001b[0m\u001b[0;34m=\u001b[0m\u001b[0;34m[\u001b[0m\u001b[0;34m(\u001b[0m\u001b[0mu\u001b[0m\u001b[0;34m,\u001b[0m \u001b[0mv\u001b[0m\u001b[0;34m)\u001b[0m \u001b[0;32mfor\u001b[0m \u001b[0mu\u001b[0m\u001b[0;34m,\u001b[0m \u001b[0mv\u001b[0m\u001b[0;34m,\u001b[0m \u001b[0mc\u001b[0m \u001b[0;32min\u001b[0m \u001b[0mG\u001b[0m\u001b[0;34m.\u001b[0m\u001b[0medges\u001b[0m\u001b[0;34m(\u001b[0m\u001b[0;34m)\u001b[0m \u001b[0;32mif\u001b[0m \u001b[0mc\u001b[0m \u001b[0;34m==\u001b[0m \u001b[0mInteger\u001b[0m\u001b[0;34m(\u001b[0m\u001b[0;36m2\u001b[0m\u001b[0;34m)\u001b[0m\u001b[0;34m]\u001b[0m\u001b[0;34m)\u001b[0m\u001b[0;34m\u001b[0m\u001b[0m\n\u001b[0;32m---> 14\u001b[0;31m     \u001b[0mG3\u001b[0m \u001b[0;34m=\u001b[0m \u001b[0mG\u001b[0m\u001b[0;34m.\u001b[0m\u001b[0msubgraph\u001b[0m\u001b[0;34m(\u001b[0m\u001b[0medges\u001b[0m\u001b[0;34m=\u001b[0m\u001b[0;34m[\u001b[0m\u001b[0;34m(\u001b[0m\u001b[0mu\u001b[0m\u001b[0;34m,\u001b[0m \u001b[0mv\u001b[0m\u001b[0;34m)\u001b[0m \u001b[0;32mfor\u001b[0m \u001b[0mu\u001b[0m\u001b[0;34m,\u001b[0m \u001b[0mv\u001b[0m\u001b[0;34m,\u001b[0m \u001b[0mc\u001b[0m \u001b[0;32min\u001b[0m \u001b[0mG\u001b[0m\u001b[0;34m.\u001b[0m\u001b[0medges\u001b[0m\u001b[0;34m(\u001b[0m\u001b[0;34m)\u001b[0m \u001b[0;32mif\u001b[0m \u001b[0mc\u001b[0m \u001b[0;34m==\u001b[0m \u001b[0mInteger\u001b[0m\u001b[0;34m(\u001b[0m\u001b[0;36m3\u001b[0m\u001b[0;34m)\u001b[0m\u001b[0;34m]\u001b[0m\u001b[0;34m)\u001b[0m\u001b[0;34m\u001b[0m\u001b[0m\n\u001b[0m\u001b[1;32m     15\u001b[0m     \u001b[0;32mfor\u001b[0m \u001b[0mu\u001b[0m\u001b[0;34m,\u001b[0m \u001b[0mv\u001b[0m\u001b[0;34m,\u001b[0m \u001b[0mc\u001b[0m \u001b[0;32min\u001b[0m \u001b[0mG1\u001b[0m\u001b[0;34m.\u001b[0m\u001b[0medges\u001b[0m\u001b[0;34m(\u001b[0m\u001b[0;34m)\u001b[0m\u001b[0;34m:\u001b[0m\u001b[0;34m\u001b[0m\u001b[0m\n\u001b[1;32m     16\u001b[0m         \u001b[0;32mif\u001b[0m \u001b[0mG1\u001b[0m\u001b[0;34m.\u001b[0m\u001b[0madjacency_matrix\u001b[0m\u001b[0;34m(\u001b[0m\u001b[0;34m)\u001b[0m\u001b[0;34m[\u001b[0m\u001b[0mu\u001b[0m\u001b[0;34m]\u001b[0m\u001b[0;34m[\u001b[0m\u001b[0mv\u001b[0m\u001b[0;34m]\u001b[0m \u001b[0;34m==\u001b[0m \u001b[0mInteger\u001b[0m\u001b[0;34m(\u001b[0m\u001b[0;36m1\u001b[0m\u001b[0;34m)\u001b[0m\u001b[0;34m:\u001b[0m\u001b[0;34m\u001b[0m\u001b[0m\n",
      "\u001b[0;32m/ext/sage/sage-8.9_1804/local/lib/python2.7/site-packages/sage/graphs/generic_graph.pyc\u001b[0m in \u001b[0;36msubgraph\u001b[0;34m(self, vertices, edges, inplace, vertex_property, edge_property, algorithm, immutable)\u001b[0m\n\u001b[1;32m  12508\u001b[0m                                               \u001b[0minplace\u001b[0m\u001b[0;34m=\u001b[0m\u001b[0minplace\u001b[0m\u001b[0;34m,\u001b[0m\u001b[0;34m\u001b[0m\u001b[0m\n\u001b[1;32m  12509\u001b[0m                                               \u001b[0medge_property\u001b[0m\u001b[0;34m=\u001b[0m\u001b[0medge_property\u001b[0m\u001b[0;34m,\u001b[0m\u001b[0;34m\u001b[0m\u001b[0m\n\u001b[0;32m> 12510\u001b[0;31m                                               immutable=immutable)\n\u001b[0m\u001b[1;32m  12511\u001b[0m         \u001b[0;32melse\u001b[0m\u001b[0;34m:\u001b[0m\u001b[0;34m\u001b[0m\u001b[0m\n\u001b[1;32m  12512\u001b[0m             return self._subgraph_by_adding(vertices=vertices, edges=edges,\n",
      "\u001b[0;32m/ext/sage/sage-8.9_1804/local/lib/python2.7/site-packages/sage/graphs/generic_graph.pyc\u001b[0m in \u001b[0;36m_subgraph_by_deleting\u001b[0;34m(self, vertices, edges, inplace, edge_property, immutable)\u001b[0m\n\u001b[1;32m  12784\u001b[0m             \u001b[0mG\u001b[0m \u001b[0;34m=\u001b[0m \u001b[0mself\u001b[0m\u001b[0;34m\u001b[0m\u001b[0m\n\u001b[1;32m  12785\u001b[0m         \u001b[0;32melse\u001b[0m\u001b[0;34m:\u001b[0m\u001b[0;34m\u001b[0m\u001b[0m\n\u001b[0;32m> 12786\u001b[0;31m             \u001b[0mG\u001b[0m \u001b[0;34m=\u001b[0m \u001b[0mcopy\u001b[0m\u001b[0;34m(\u001b[0m\u001b[0mself\u001b[0m\u001b[0;34m)\u001b[0m\u001b[0;34m\u001b[0m\u001b[0m\n\u001b[0m\u001b[1;32m  12787\u001b[0m         \u001b[0mG\u001b[0m\u001b[0;34m.\u001b[0m\u001b[0mname\u001b[0m\u001b[0;34m(\u001b[0m\u001b[0;34m\"Subgraph of (%s)\"\u001b[0m\u001b[0;34m%\u001b[0m\u001b[0mself\u001b[0m\u001b[0;34m.\u001b[0m\u001b[0mname\u001b[0m\u001b[0;34m(\u001b[0m\u001b[0;34m)\u001b[0m\u001b[0;34m)\u001b[0m\u001b[0;34m\u001b[0m\u001b[0m\n\u001b[1;32m  12788\u001b[0m \u001b[0;34m\u001b[0m\u001b[0m\n",
      "\u001b[0;32m/ext/sage/sage-8.9_1804/local/lib/python2.7/copy.pyc\u001b[0m in \u001b[0;36mcopy\u001b[0;34m(x)\u001b[0m\n\u001b[1;32m     78\u001b[0m     \u001b[0mcopier\u001b[0m \u001b[0;34m=\u001b[0m \u001b[0mgetattr\u001b[0m\u001b[0;34m(\u001b[0m\u001b[0mcls\u001b[0m\u001b[0;34m,\u001b[0m \u001b[0;34m\"__copy__\"\u001b[0m\u001b[0;34m,\u001b[0m \u001b[0mNone\u001b[0m\u001b[0;34m)\u001b[0m\u001b[0;34m\u001b[0m\u001b[0m\n\u001b[1;32m     79\u001b[0m     \u001b[0;32mif\u001b[0m \u001b[0mcopier\u001b[0m\u001b[0;34m:\u001b[0m\u001b[0;34m\u001b[0m\u001b[0m\n\u001b[0;32m---> 80\u001b[0;31m         \u001b[0;32mreturn\u001b[0m \u001b[0mcopier\u001b[0m\u001b[0;34m(\u001b[0m\u001b[0mx\u001b[0m\u001b[0;34m)\u001b[0m\u001b[0;34m\u001b[0m\u001b[0m\n\u001b[0m\u001b[1;32m     81\u001b[0m \u001b[0;34m\u001b[0m\u001b[0m\n\u001b[1;32m     82\u001b[0m     \u001b[0mreductor\u001b[0m \u001b[0;34m=\u001b[0m \u001b[0mdispatch_table\u001b[0m\u001b[0;34m.\u001b[0m\u001b[0mget\u001b[0m\u001b[0;34m(\u001b[0m\u001b[0mcls\u001b[0m\u001b[0;34m)\u001b[0m\u001b[0;34m\u001b[0m\u001b[0m\n",
      "\u001b[0;32m/ext/sage/sage-8.9_1804/local/lib/python2.7/site-packages/sage/graphs/generic_graph.pyc\u001b[0m in \u001b[0;36m__copy__\u001b[0;34m(self)\u001b[0m\n\u001b[1;32m   1244\u001b[0m             \u001b[0;36m5\u001b[0m\u001b[0;34m\u001b[0m\u001b[0m\n\u001b[1;32m   1245\u001b[0m         \"\"\"\n\u001b[0;32m-> 1246\u001b[0;31m         \u001b[0;32mreturn\u001b[0m \u001b[0mself\u001b[0m\u001b[0;34m.\u001b[0m\u001b[0mcopy\u001b[0m\u001b[0;34m(\u001b[0m\u001b[0mimmutable\u001b[0m\u001b[0;34m=\u001b[0m\u001b[0mFalse\u001b[0m\u001b[0;34m)\u001b[0m\u001b[0;34m\u001b[0m\u001b[0m\n\u001b[0m\u001b[1;32m   1247\u001b[0m \u001b[0;34m\u001b[0m\u001b[0m\n\u001b[1;32m   1248\u001b[0m     \u001b[0;32mdef\u001b[0m \u001b[0mexport_to_file\u001b[0m\u001b[0;34m(\u001b[0m\u001b[0mself\u001b[0m\u001b[0;34m,\u001b[0m \u001b[0mfilename\u001b[0m\u001b[0;34m,\u001b[0m \u001b[0mformat\u001b[0m\u001b[0;34m=\u001b[0m\u001b[0mNone\u001b[0m\u001b[0;34m,\u001b[0m \u001b[0;34m**\u001b[0m\u001b[0mkwds\u001b[0m\u001b[0;34m)\u001b[0m\u001b[0;34m:\u001b[0m\u001b[0;34m\u001b[0m\u001b[0m\n",
      "\u001b[0;32m/ext/sage/sage-8.9_1804/local/lib/python2.7/site-packages/sage/graphs/generic_graph.pyc\u001b[0m in \u001b[0;36mcopy\u001b[0;34m(self, weighted, data_structure, sparse, immutable)\u001b[0m\n\u001b[1;32m   1196\u001b[0m \u001b[0;34m\u001b[0m\u001b[0m\n\u001b[1;32m   1197\u001b[0m         \u001b[0;32mif\u001b[0m \u001b[0mdata_structure\u001b[0m \u001b[0;32mis\u001b[0m \u001b[0mNone\u001b[0m\u001b[0;34m:\u001b[0m\u001b[0;34m\u001b[0m\u001b[0m\n\u001b[0;32m-> 1198\u001b[0;31m             \u001b[0;32mfrom\u001b[0m \u001b[0msage\u001b[0m\u001b[0;34m.\u001b[0m\u001b[0mgraphs\u001b[0m\u001b[0;34m.\u001b[0m\u001b[0mbase\u001b[0m\u001b[0;34m.\u001b[0m\u001b[0mdense_graph\u001b[0m \u001b[0;32mimport\u001b[0m \u001b[0mDenseGraphBackend\u001b[0m\u001b[0;34m\u001b[0m\u001b[0m\n\u001b[0m\u001b[1;32m   1199\u001b[0m             \u001b[0;32mif\u001b[0m \u001b[0misinstance\u001b[0m\u001b[0;34m(\u001b[0m\u001b[0mself\u001b[0m\u001b[0;34m.\u001b[0m\u001b[0m_backend\u001b[0m\u001b[0;34m,\u001b[0m \u001b[0mDenseGraphBackend\u001b[0m\u001b[0;34m)\u001b[0m\u001b[0;34m:\u001b[0m\u001b[0;34m\u001b[0m\u001b[0m\n\u001b[1;32m   1200\u001b[0m                 \u001b[0mdata_structure\u001b[0m \u001b[0;34m=\u001b[0m \u001b[0;34m\"dense\"\u001b[0m\u001b[0;34m\u001b[0m\u001b[0m\n",
      "\u001b[0;32msrc/cysignals/signals.pyx\u001b[0m in \u001b[0;36mcysignals.signals.python_check_interrupt\u001b[0;34m()\u001b[0m\n",
      "\u001b[0;31mKeyboardInterrupt\u001b[0m: "
     ]
    }
   ],
   "source": [
    "barve = {'red': 1, 'green': 2, 'blue': 3}\n",
    "\n",
    "def barvanje(G):\n",
    "    barve = {'red': 1, 'green': 2, 'blue': 3}\n",
    "    for u, v in G.edges(labels=False):\n",
    "        c = randint(1, 3)\n",
    "        G.set_edge_label(u, v, c)\n",
    "\n",
    "def iskanje_slabih(G):\n",
    "    slabe = []\n",
    "    dobre = []\n",
    "    G1 = G.subgraph(edges=[(u, v) for u, v, c in G.edges() if c == 1])\n",
    "    G2 = G.subgraph(edges=[(u, v) for u, v, c in G.edges() if c == 2])\n",
    "    G3 = G.subgraph(edges=[(u, v) for u, v, c in G.edges() if c == 3])\n",
    "    for u, v, c in G1.edges():\n",
    "        if G1.adjacency_matrix()[u][v] == 1:\n",
    "            if G1.degree(u) == G1.degree(v):\n",
    "                slabe.append((u, v, c))\n",
    "            else:\n",
    "                dobre.append((u, v, c))\n",
    "\n",
    "    for u, v, c in G2.edges():\n",
    "        if G2.adjacency_matrix()[u][v] == 1:\n",
    "            if G2.degree(u) == G2.degree(v):\n",
    "                slabe.append((u, v, c))\n",
    "            else:\n",
    "                dobre.append((u, v, c))\n",
    "\n",
    "    for u, v, c in G3.edges():\n",
    "        if G3.adjacency_matrix()[u][v] == 1:\n",
    "            if G3.degree(u) == G3.degree(v):\n",
    "                slabe.append((u, v, c))\n",
    "            else:\n",
    "                dobre.append((u, v, c))\n",
    "    return slabe\n",
    "\n",
    "def popravljanje(kolikokrat, G):\n",
    "    import random\n",
    "    A = Graph(G)\n",
    "    B = Graph(G)\n",
    "    for i in range(kolikokrat):\n",
    "        u, v, c = G.random_edge()\n",
    "        barva0 = [1,2,3]\n",
    "        barva0.remove(c)\n",
    "        barva1 = random.choice(barva0)\n",
    "        A.set_edge_label(u, v, barva1)\n",
    "        barva0.remove(barva1)\n",
    "        B.set_edge_label(u, v, barva0[0])\n",
    "        g = len(iskanje_slabih(G))\n",
    "        a = len(iskanje_slabih(A))\n",
    "        b = len(iskanje_slabih(B))\n",
    "        if a < b:\n",
    "            if a < g:\n",
    "                G = Graph(A)\n",
    "                #print 'spreminjam na A'\n",
    "        else:\n",
    "            if b < g:\n",
    "                G = Graph(B)\n",
    "                #print 'spreminjam na B'\n",
    "    return G\n",
    "\n",
    "def lokalno_popravljanje(G):\n",
    "    import random\n",
    "    for u, v, c in iskanje_slabih(G):\n",
    "        for u1, v1, c1 in G.edges_incident(u):\n",
    "            A = Graph(G)\n",
    "            B = Graph(G)\n",
    "            c = [1,2,3]\n",
    "            c.remove(G.edge_label(u1,v1))\n",
    "            barva1 = random.choice(c)\n",
    "            A.set_edge_label(u1, v1, barva1)\n",
    "            c.remove(barva1)\n",
    "            B.set_edge_label(u1, v1, c[0])\n",
    "            g = len(iskanje_slabih(G))\n",
    "            a = len(iskanje_slabih(A))\n",
    "            b = len(iskanje_slabih(B))\n",
    "            print iskanje_slabih(G)\n",
    "            print G.edges()\n",
    "            if a < b:\n",
    "                if a < g:\n",
    "                    G = Graph(A)\n",
    "                    print 'spreminjam na A'\n",
    "                    print G.edges()\n",
    "            else:\n",
    "                if b < g:\n",
    "                    G = Graph(B)\n",
    "                    print 'spreminjam na B'\n",
    "                    print G.edges()\n",
    "        for u1, v1, c1 in G.edges_incident(v):\n",
    "            A = Graph(G)\n",
    "            B = Graph(G)\n",
    "            a = len(iskanje_slabih(G))\n",
    "            c = [1,2,3]\n",
    "            c.remove(G.edge_label(u1,v1))\n",
    "            barva1 = random.choice(c)\n",
    "            A.set_edge_label(u1, v1, barva1)\n",
    "            c.remove(barva1)\n",
    "            B.set_edge_label(u1, v1, c[0])\n",
    "            g = len(iskanje_slabih(G))\n",
    "            a = len(iskanje_slabih(A))\n",
    "            b = len(iskanje_slabih(B))\n",
    "            print iskanje_slabih(G)\n",
    "            print G.edges()\n",
    "            if a < b:\n",
    "                if a < g:\n",
    "                    G = Graph(A)\n",
    "                    print 'spreminjam na A'\n",
    "                    print G.edges()\n",
    "            else:\n",
    "                if b < g:\n",
    "                    G = Graph(B)\n",
    "                    print 'spreminjam na B'\n",
    "                    print G.edges()\n",
    "    return G\n",
    "\n",
    "def poskusi_pobarvat(G, i=0):\n",
    "    ind = 0\n",
    "    while i < 10:\n",
    "        print('barva{}'.format(i))\n",
    "        barvanje(G)\n",
    "        G = Graph(popravljanje(3000, G))\n",
    "        if iskanje_slabih(G) != []:\n",
    "            print 'grem lokalno popravljat'\n",
    "            lokalno_popravljen = Graph(lokalno_popravljanje(G))\n",
    "            slabi_po_lokalnem = iskanje_slabih(lokalno_popravljen)\n",
    "            if (slabi_po_lokalnem != []) and (lokalno_popravljen.edges() != G.edges()):\n",
    "                print 'grem se enkrat popravljat'\n",
    "                G = Graph(popravljanje(3000, lokalno_popravljen))\n",
    "                if iskanje_slabih(G) != []:\n",
    "                    i += 1\n",
    "                else:\n",
    "                    print('uspelo pobarvat1')\n",
    "                    ind = 1\n",
    "                    break\n",
    "            elif (slabi_po_lokalnem != []) and (lokalno_popravljen.edges() == G.edges()):\n",
    "                i += 1\n",
    "            elif slabi_po_lokalnem == []:\n",
    "                print('uspelo pobarvat z lokalnim')\n",
    "                ind = 1\n",
    "                G = Graph(lokalno_popravljen)\n",
    "                break\n",
    "        else:\n",
    "            print('uspelo pobarvat3')\n",
    "            ind = 1\n",
    "            break\n",
    "    if iskanje_slabih(G) != []:\n",
    "        print 'ni uspel pobarvat'\n",
    "        return G\n",
    "    else:\n",
    "        if ind == 0:\n",
    "            print('uspelo pobarvat4')\n",
    "\n",
    "seznam_nepobarvanih = []\n",
    "\n",
    "#ZA MALE GRAFE\n",
    "for i in range(4,13,2):\n",
    "    print(i)\n",
    "    for G in graphs.nauty_geng('{} -c -d3 -D3'.format(i)):\n",
    "        graf = poskusi_pobarvat(G)\n",
    "        if graf != None:\n",
    "            seznam_nepobarvanih.append(graf)\n",
    "            print(seznam_nepobarvanih)\n",
    "\n",
    "#ZA VELIKE GRAFE\n",
    "for i in [14, 16, 18, 20, 30 , 40, 50, 60, 70, 80, 90, 100]:\n",
    "    print(i)\n",
    "    for m in range(20):\n",
    "        G = graphs.RandomRegular(3, i)\n",
    "        graf = poskusi_pobarvat(G)\n",
    "        if graf != None:\n",
    "            seznam_nepobarvanih.append(graf)\n",
    "            print(seznam_nepobarvanih)\n",
    "\n",
    "seznam_nepobarvanih.sort(key=len)\n",
    "\n",
    "#ZAPIS V JSON DATOTEKO\n",
    "import json\n",
    "seznam_protiprimerov = []\n",
    "for G in seznam_nepobarvanih:\n",
    "    seznam_protiprimerov.append(G.sparse6_string())\n",
    "with open(\"seznam_protiprimerov.json\", \"w\") as f:\n",
    "    json.dump(seznam_protiprimerov, f)"
   ]
  },
  {
   "cell_type": "code",
   "execution_count": 0,
   "metadata": {
    "collapsed": false
   },
   "outputs": [
   ],
   "source": [
   ]
  },
  {
   "cell_type": "code",
   "execution_count": 0,
   "metadata": {
    "collapsed": false
   },
   "outputs": [
   ],
   "source": [
   ]
  },
  {
   "cell_type": "code",
   "execution_count": 0,
   "metadata": {
    "collapsed": false
   },
   "outputs": [
   ],
   "source": [
   ]
  },
  {
   "cell_type": "code",
   "execution_count": 0,
   "metadata": {
    "collapsed": false
   },
   "outputs": [
   ],
   "source": [
   ]
  },
  {
   "cell_type": "code",
   "execution_count": 0,
   "metadata": {
    "collapsed": false
   },
   "outputs": [
   ],
   "source": [
   ]
  },
  {
   "cell_type": "code",
   "execution_count": 0,
   "metadata": {
    "collapsed": false
   },
   "outputs": [
   ],
   "source": [
   ]
  },
  {
   "cell_type": "code",
   "execution_count": 0,
   "metadata": {
    "collapsed": false
   },
   "outputs": [
   ],
   "source": [
   ]
  },
  {
   "cell_type": "code",
   "execution_count": 0,
   "metadata": {
    "collapsed": false
   },
   "outputs": [
   ],
   "source": [
   ]
  },
  {
   "cell_type": "code",
   "execution_count": 0,
   "metadata": {
    "collapsed": false
   },
   "outputs": [
   ],
   "source": [
   ]
  },
  {
   "cell_type": "code",
   "execution_count": 0,
   "metadata": {
    "collapsed": false
   },
   "outputs": [
   ],
   "source": [
   ]
  },
  {
   "cell_type": "code",
   "execution_count": 0,
   "metadata": {
    "collapsed": false
   },
   "outputs": [
   ],
   "source": [
   ]
  },
  {
   "cell_type": "code",
   "execution_count": 0,
   "metadata": {
    "collapsed": false
   },
   "outputs": [
   ],
   "source": [
   ]
  },
  {
   "cell_type": "code",
   "execution_count": 0,
   "metadata": {
    "collapsed": false
   },
   "outputs": [
   ],
   "source": [
   ]
  },
  {
   "cell_type": "code",
   "execution_count": 0,
   "metadata": {
    "collapsed": false
   },
   "outputs": [
   ],
   "source": [
   ]
  },
  {
   "cell_type": "code",
   "execution_count": 0,
   "metadata": {
    "collapsed": false
   },
   "outputs": [
   ],
   "source": [
   ]
  }
 ],
 "metadata": {
  "kernelspec": {
   "display_name": "SageMath (stable)",
   "language": "sagemath",
   "metadata": {
    "cocalc": {
     "description": "Open-source mathematical software system",
     "priority": 10,
     "url": "https://www.sagemath.org/"
    }
   },
   "name": "sagemath"
  },
  "language_info": {
   "codemirror_mode": {
    "name": "ipython",
    "version": 2
   },
   "file_extension": ".py",
   "mimetype": "text/x-python",
   "name": "python",
   "nbconvert_exporter": "python",
   "pygments_lexer": "ipython2",
   "version": "2.7.15"
  }
 },
 "nbformat": 4,
 "nbformat_minor": 0
}