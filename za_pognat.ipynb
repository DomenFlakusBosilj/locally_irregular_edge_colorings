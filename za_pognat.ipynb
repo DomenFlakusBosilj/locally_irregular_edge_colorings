{
 "cells": [
  {
   "cell_type": "code",
   "execution_count": 47,
   "metadata": {
    "collapsed": false,
    "scrolled": true
   },
   "outputs": [
    {
     "name": "stdout",
     "output_type": "stream",
     "text": [
      "4\n",
      "barva0\n"
     ]
    },
    {
     "name": "stdout",
     "output_type": "stream",
     "text": [
      "uspelo pobarvat3\n",
      "6\n",
      "barva0\n"
     ]
    },
    {
     "name": "stdout",
     "output_type": "stream",
     "text": [
      "uspelo pobarvat3\n",
      "barva0\n"
     ]
    },
    {
     "name": "stdout",
     "output_type": "stream",
     "text": [
      "uspelo pobarvat3\n",
      "8\n",
      "barva0\n"
     ]
    },
    {
     "name": "stdout",
     "output_type": "stream",
     "text": [
      "uspelo pobarvat3\n",
      "barva0\n"
     ]
    },
    {
     "name": "stdout",
     "output_type": "stream",
     "text": [
      "uspelo pobarvat3\n",
      "barva0\n"
     ]
    },
    {
     "name": "stdout",
     "output_type": "stream",
     "text": [
      "uspelo pobarvat3\n",
      "barva0\n"
     ]
    },
    {
     "name": "stdout",
     "output_type": "stream",
     "text": [
      "uspelo pobarvat3\n",
      "barva0\n"
     ]
    },
    {
     "name": "stdout",
     "output_type": "stream",
     "text": [
      "uspelo pobarvat3\n",
      "10\n",
      "barva0\n"
     ]
    },
    {
     "name": "stdout",
     "output_type": "stream",
     "text": [
      "uspelo pobarvat3\n",
      "barva0\n"
     ]
    },
    {
     "name": "stdout",
     "output_type": "stream",
     "text": [
      "uspelo pobarvat3\n",
      "barva0\n"
     ]
    },
    {
     "name": "stdout",
     "output_type": "stream",
     "text": [
      "uspelo pobarvat3\n",
      "barva0\n"
     ]
    }
   ],
   "source": [
    "barve = {'red': 1, 'green': 2, 'blue': 3}\n",
    "\n",
    "def barvanje(G):\n",
    "    barve = {'red': 1, 'green': 2, 'blue': 3}\n",
    "    for u, v in G.edges(labels=False):\n",
    "        c = randint(1, 3)\n",
    "        G.set_edge_label(u, v, c)\n",
    "\n",
    "def iskanje_slabih(G):\n",
    "    slabe = []\n",
    "    dobre = []\n",
    "    G1 = G.subgraph(edges=[(u, v) for u, v, c in G.edges() if c == 1])\n",
    "    G2 = G.subgraph(edges=[(u, v) for u, v, c in G.edges() if c == 2])\n",
    "    G3 = G.subgraph(edges=[(u, v) for u, v, c in G.edges() if c == 3])\n",
    "    for u, v, c in G1.edges():\n",
    "        if G1.adjacency_matrix()[u][v] == 1:\n",
    "            if G1.degree(u) == G1.degree(v):\n",
    "                slabe.append((u, v, c))\n",
    "            else:\n",
    "                dobre.append((u, v, c))\n",
    "\n",
    "    for u, v, c in G2.edges():\n",
    "        if G2.adjacency_matrix()[u][v] == 1:\n",
    "            if G2.degree(u) == G2.degree(v):\n",
    "                slabe.append((u, v, c))\n",
    "            else:\n",
    "                dobre.append((u, v, c))\n",
    "\n",
    "    for u, v, c in G3.edges():\n",
    "        if G3.adjacency_matrix()[u][v] == 1:\n",
    "            if G3.degree(u) == G3.degree(v):\n",
    "                slabe.append((u, v, c))\n",
    "            else:\n",
    "                dobre.append((u, v, c))\n",
    "    return slabe\n",
    "\n",
    "def popravljanje(kolikokrat, G):\n",
    "    import random\n",
    "    A = Graph(G)\n",
    "    B = Graph(G)\n",
    "    for i in range(kolikokrat):\n",
    "        u, v, c = G.random_edge()\n",
    "        barva0 = [1,2,3]\n",
    "        barva0.remove(c)\n",
    "        barva1 = random.choice(barva0)\n",
    "        A.set_edge_label(u, v, barva1)\n",
    "        barva0.remove(barva1)\n",
    "        B.set_edge_label(u, v, barva0[0])\n",
    "        g = len(iskanje_slabih(G))\n",
    "        a = len(iskanje_slabih(A))\n",
    "        b = len(iskanje_slabih(B))\n",
    "        if a < b:\n",
    "            if a < g:\n",
    "                G = Graph(A)\n",
    "                #print 'spreminjam na A'\n",
    "        else:\n",
    "            if b < g:\n",
    "                G = Graph(B)\n",
    "                #print 'spreminjam na B'\n",
    "    return G\n",
    "\n",
    "def lokalno_popravljanje(G):\n",
    "    import random\n",
    "    for u, v, c in iskanje_slabih(G):\n",
    "        for u1, v1, c1 in G.edges_incident(u):\n",
    "            A = Graph(G)\n",
    "            B = Graph(G)\n",
    "            c = [1,2,3]\n",
    "            c.remove(G.edge_label(u1,v1))\n",
    "            barva1 = random.choice(c)\n",
    "            A.set_edge_label(u1, v1, barva1)\n",
    "            c.remove(barva1)\n",
    "            B.set_edge_label(u1, v1, c[0])\n",
    "            g = len(iskanje_slabih(G))\n",
    "            a = len(iskanje_slabih(A))\n",
    "            b = len(iskanje_slabih(B))\n",
    "            print iskanje_slabih(G)\n",
    "            print G.edges()\n",
    "            if a < b:\n",
    "                if a < g:\n",
    "                    G = Graph(A)\n",
    "                    print 'spreminjam na A'\n",
    "                    print G.edges()\n",
    "            else:\n",
    "                if b < g:\n",
    "                    G = Graph(B)\n",
    "                    print 'spreminjam na B'\n",
    "                    print G.edges()\n",
    "        for u1, v1, c1 in G.edges_incident(v):\n",
    "            A = Graph(G)\n",
    "            B = Graph(G)\n",
    "            a = len(iskanje_slabih(G))\n",
    "            c = [1,2,3]\n",
    "            c.remove(G.edge_label(u1,v1))\n",
    "            barva1 = random.choice(c)\n",
    "            A.set_edge_label(u1, v1, barva1)\n",
    "            c.remove(barva1)\n",
    "            B.set_edge_label(u1, v1, c[0])\n",
    "            g = len(iskanje_slabih(G))\n",
    "            a = len(iskanje_slabih(A))\n",
    "            b = len(iskanje_slabih(B))\n",
    "            print iskanje_slabih(G)\n",
    "            print G.edges()\n",
    "            if a < b:\n",
    "                if a < g:\n",
    "                    G = Graph(A)\n",
    "                    print 'spreminjam na A'\n",
    "                    print G.edges()\n",
    "            else:\n",
    "                if b < g:\n",
    "                    G = Graph(B)\n",
    "                    print 'spreminjam na B'\n",
    "                    print G.edges()\n",
    "    return G\n",
    "\n",
    "def poskusi_pobarvat(G, i=0):\n",
    "    ind = 0\n",
    "    while i < 10:\n",
    "        print('barva{}'.format(i))\n",
    "        barvanje(G)\n",
    "        G = Graph(popravljanje(2000, G))\n",
    "        if iskanje_slabih(G) != []:\n",
    "            print 'grem lokalno popravljat'\n",
    "            lokalno_popravljen = Graph(lokalno_popravljanje(G))\n",
    "            slabi_po_lokalnem = iskanje_slabih(lokalno_popravljen)\n",
    "            if (slabi_po_lokalnem != []) and (lokalno_popravljen.edges() != G.edges()):\n",
    "                print 'grem se enkrat popravljat'\n",
    "                G = Graph(popravljanje(2000, lokalno_popravljen))\n",
    "                if iskanje_slabih(G) != []:\n",
    "                    i += 1\n",
    "                else:\n",
    "                    print('uspelo pobarvat1')\n",
    "                    ind = 1\n",
    "                    break\n",
    "            elif (slabi_po_lokalnem != []) and (lokalno_popravljen.edges() == G.edges()):\n",
    "                i += 1\n",
    "            elif slabi_po_lokalnem == []:\n",
    "                print('uspelo pobarvat z lokalnim')\n",
    "                ind = 1\n",
    "                G = Graph(lokalno_popravljen)\n",
    "                break\n",
    "        else:\n",
    "            print('uspelo pobarvat3')\n",
    "            ind = 1\n",
    "            break\n",
    "    if iskanje_slabih(G) != []:\n",
    "        print 'ni uspel pobarvat'\n",
    "        return G\n",
    "    else:\n",
    "        if ind == 0:\n",
    "            print('uspelo pobarvat4')\n",
    "\n",
    "seznam_nepobarvanih = []\n",
    "\n",
    "#ZA MALE GRAFE\n",
    "for i in range(4,13,2):\n",
    "    print(i)\n",
    "    for G in graphs.nauty_geng('{} -c -d3 -D3'.format(i)):\n",
    "        graf = poskusi_pobarvat(G)\n",
    "        if graf != None:\n",
    "            seznam_nepobarvanih.append(graf)\n",
    "            print(seznam_nepobarvanih)\n",
    "\n",
    "#ZA VELIKE GRAFE\n",
    "for i in [14, 16, 18, 20, 30 , 40, 50, 60, 70, 80, 90, 100]:\n",
    "    print(i)\n",
    "    for m in range(20):\n",
    "        G = graphs.RandomRegular(3, i)\n",
    "        graf = poskusi_pobarvat(G)\n",
    "        if graf != None:\n",
    "            seznam_nepobarvanih.append(graf)\n",
    "            print(seznam_nepobarvanih)\n",
    "\n",
    "seznam_nepobarvanih.sort(key=len)\n",
    "\n",
    "#ZAPIS V JSON DATOTEKO\n",
    "import json\n",
    "seznam_protiprimerov = []\n",
    "for G in seznam_nepobarvanih:\n",
    "    seznam_protiprimerov.append(G.sparse6_string())\n",
    "with open(\"seznam_protiprimerov.json\", \"w\") as f:\n",
    "    json.dump(seznam_protiprimerov, f)"
   ]
  },
  {
   "cell_type": "code",
   "execution_count": 0,
   "metadata": {
    "collapsed": false
   },
   "outputs": [
   ],
   "source": [
   ]
  },
  {
   "cell_type": "code",
   "execution_count": 0,
   "metadata": {
    "collapsed": false
   },
   "outputs": [
   ],
   "source": [
   ]
  },
  {
   "cell_type": "code",
   "execution_count": 0,
   "metadata": {
    "collapsed": false
   },
   "outputs": [
   ],
   "source": [
   ]
  },
  {
   "cell_type": "code",
   "execution_count": 0,
   "metadata": {
    "collapsed": false
   },
   "outputs": [
   ],
   "source": [
   ]
  },
  {
   "cell_type": "code",
   "execution_count": 0,
   "metadata": {
    "collapsed": false
   },
   "outputs": [
   ],
   "source": [
   ]
  },
  {
   "cell_type": "code",
   "execution_count": 0,
   "metadata": {
    "collapsed": false
   },
   "outputs": [
   ],
   "source": [
   ]
  },
  {
   "cell_type": "code",
   "execution_count": 0,
   "metadata": {
    "collapsed": false
   },
   "outputs": [
   ],
   "source": [
   ]
  },
  {
   "cell_type": "code",
   "execution_count": 0,
   "metadata": {
    "collapsed": false
   },
   "outputs": [
   ],
   "source": [
   ]
  },
  {
   "cell_type": "code",
   "execution_count": 0,
   "metadata": {
    "collapsed": false
   },
   "outputs": [
   ],
   "source": [
   ]
  },
  {
   "cell_type": "code",
   "execution_count": 0,
   "metadata": {
    "collapsed": false
   },
   "outputs": [
   ],
   "source": [
   ]
  },
  {
   "cell_type": "code",
   "execution_count": 0,
   "metadata": {
    "collapsed": false
   },
   "outputs": [
   ],
   "source": [
   ]
  },
  {
   "cell_type": "code",
   "execution_count": 0,
   "metadata": {
    "collapsed": false
   },
   "outputs": [
   ],
   "source": [
   ]
  },
  {
   "cell_type": "code",
   "execution_count": 0,
   "metadata": {
    "collapsed": false
   },
   "outputs": [
   ],
   "source": [
   ]
  },
  {
   "cell_type": "code",
   "execution_count": 0,
   "metadata": {
    "collapsed": false
   },
   "outputs": [
   ],
   "source": [
   ]
  },
  {
   "cell_type": "code",
   "execution_count": 0,
   "metadata": {
    "collapsed": false
   },
   "outputs": [
   ],
   "source": [
   ]
  }
 ],
 "metadata": {
  "kernelspec": {
   "display_name": "SageMath (stable)",
   "language": "sagemath",
   "metadata": {
    "cocalc": {
     "description": "Open-source mathematical software system",
     "priority": 10,
     "url": "https://www.sagemath.org/"
    }
   },
   "name": "sagemath"
  },
  "language_info": {
   "codemirror_mode": {
    "name": "ipython",
    "version": 2
   },
   "file_extension": ".py",
   "mimetype": "text/x-python",
   "name": "python",
   "nbconvert_exporter": "python",
   "pygments_lexer": "ipython2",
   "version": "2.7.15"
  }
 },
 "nbformat": 4,
 "nbformat_minor": 0
}